{
 "cells": [
  {
   "cell_type": "markdown",
   "metadata": {
    "ExecuteTime": {
     "end_time": "2022-12-24T18:42:17.584815Z",
     "start_time": "2022-12-24T18:42:17.435472Z"
    }
   },
   "source": [
    "![header](images/header.jpg)"
   ]
  },
  {
   "cell_type": "markdown",
   "metadata": {},
   "source": [
    "# Predicting Condition of Tanzanian Water Wells"
   ]
  },
  {
   "cell_type": "markdown",
   "metadata": {},
   "source": [
    "**Author:** [Jonathan Fetterolf](mailto:jonathan.fetterolf@gmail.com)"
   ]
  },
  {
   "cell_type": "markdown",
   "metadata": {},
   "source": [
    "## Overview"
   ]
  },
  {
   "cell_type": "markdown",
   "metadata": {},
   "source": [
    "## Business Understanding and Business Problem\n",
    "Using data from each waterpoint, can you predict which pumps are functional, which need some repairs, and which don't work at all? Data driven predictions will lead to a better maintenance operations and will ensure clean and potable water is available to communities across Tanzania. "
   ]
  },
  {
   "cell_type": "markdown",
   "metadata": {},
   "source": [
    "## Data Understanding\n",
    "Data for this project is from [Taarifa](http://taarifa.org/) and the [Tanzanian Ministry of Water](http://maji.go.tz/)."
   ]
  },
  {
   "cell_type": "markdown",
   "metadata": {},
   "source": [
    "## Exploratory Data Analyis"
   ]
  },
  {
   "cell_type": "markdown",
   "metadata": {},
   "source": [
    "### Imports"
   ]
  },
  {
   "cell_type": "code",
   "execution_count": 1,
   "metadata": {
    "ExecuteTime": {
     "end_time": "2022-12-28T00:09:20.389957Z",
     "start_time": "2022-12-28T00:09:19.398687Z"
    }
   },
   "outputs": [],
   "source": [
    "import pandas as pd\n",
    "import numpy as np\n",
    "from matplotlib import pyplot as plt\n",
    "import seaborn as sns\n",
    "\n",
    "from sklearn.model_selection import train_test_split, GridSearchCV, cross_val_score\n",
    "from sklearn.pipeline import Pipeline\n",
    "from sklearn.preprocessing import StandardScaler, OneHotEncoder, FunctionTransformer, OrdinalEncoder\n",
    "from sklearn.impute import SimpleImputer\n",
    "from sklearn.compose import ColumnTransformer,  make_column_selector as selector\n",
    "from sklearn.linear_model import LogisticRegression\n",
    "from sklearn.ensemble import RandomForestClassifier, GradientBoostingClassifier\n",
    "from sklearn.metrics import plot_confusion_matrix, recall_score,\\\n",
    "    accuracy_score, precision_score, f1_score\n",
    "\n",
    "from imblearn.over_sampling import SMOTE\n",
    "from imblearn.pipeline import Pipeline as ImPipeline\n",
    "\n",
    "from sklearn.dummy import DummyClassifier"
   ]
  },
  {
   "cell_type": "markdown",
   "metadata": {},
   "source": [
    "## Import Initial Data"
   ]
  },
  {
   "cell_type": "code",
   "execution_count": 2,
   "metadata": {
    "ExecuteTime": {
     "end_time": "2022-12-28T00:09:20.609854Z",
     "start_time": "2022-12-28T00:09:20.390906Z"
    }
   },
   "outputs": [],
   "source": [
    "df = pd.read_csv('data/training_set_values.csv', index_col='id')"
   ]
  },
  {
   "cell_type": "markdown",
   "metadata": {},
   "source": [
    "## Functions\n"
   ]
  },
  {
   "cell_type": "markdown",
   "metadata": {},
   "source": [
    "Creating a function and transformer that returns numeric columns. "
   ]
  },
  {
   "cell_type": "code",
   "execution_count": 3,
   "metadata": {
    "ExecuteTime": {
     "end_time": "2022-12-28T00:09:20.614298Z",
     "start_time": "2022-12-28T00:09:20.612692Z"
    }
   },
   "outputs": [],
   "source": [
    "def grab_numeric(df):\n",
    "    return df.select_dtypes(include=['float', 'int'])"
   ]
  },
  {
   "cell_type": "code",
   "execution_count": 4,
   "metadata": {
    "ExecuteTime": {
     "end_time": "2022-12-28T00:09:20.616559Z",
     "start_time": "2022-12-28T00:09:20.615166Z"
    }
   },
   "outputs": [],
   "source": [
    "GrabNumeric = FunctionTransformer(grab_numeric)"
   ]
  },
  {
   "cell_type": "markdown",
   "metadata": {},
   "source": [
    "Numeric Pipeline"
   ]
  },
  {
   "cell_type": "code",
   "execution_count": 5,
   "metadata": {
    "ExecuteTime": {
     "end_time": "2022-12-28T00:09:20.618798Z",
     "start_time": "2022-12-28T00:09:20.617323Z"
    }
   },
   "outputs": [],
   "source": [
    "numeric_pipe = Pipeline([\n",
    "    ('numeric_impute', SimpleImputer(strategy='mean')),\n",
    "    ('ss', StandardScaler())\n",
    "])"
   ]
  },
  {
   "cell_type": "code",
   "execution_count": 6,
   "metadata": {
    "ExecuteTime": {
     "end_time": "2022-12-28T00:09:20.621962Z",
     "start_time": "2022-12-28T00:09:20.619532Z"
    }
   },
   "outputs": [],
   "source": [
    "def null_info(col_name, df_name=df):\n",
    "    '''\n",
    "    give this function a column name and name of the DataFrame to\n",
    "    receive a printout with how many null values the column contains,\n",
    "    the percentage of missing values in that column, the top 5 values\n",
    "    of the column, and how many unique values are in the column. \n",
    "    '''\n",
    "    percent = round((df_name[col_name].isna().sum() / df_length) * 100, ndigits=2)\n",
    "    values = df_name[col_name].value_counts().head()\n",
    "    num_unique = len(list(df_name[col_name].unique()))\n",
    "    col_type = df_name[col_name].dtypes\n",
    "    total_nulls = df_name[col_name].isna().sum()\n",
    "    return print(f'''Column Name: '{col_name}'\\n\n",
    "This column consists of {col_type}s and has {total_nulls} null values.\\n\n",
    "The percentage of missing values in the {col_name} \\\n",
    "column is {percent}%.\\n\n",
    "The top values in {col_name} are:\\n\n",
    "{values}\\n\n",
    "There are {num_unique} unique values in this column.\n",
    "    ''')"
   ]
  },
  {
   "cell_type": "markdown",
   "metadata": {},
   "source": [
    "## Data"
   ]
  },
  {
   "cell_type": "code",
   "execution_count": 7,
   "metadata": {
    "ExecuteTime": {
     "end_time": "2022-12-28T00:09:20.625923Z",
     "start_time": "2022-12-28T00:09:20.623576Z"
    }
   },
   "outputs": [
    {
     "data": {
      "text/plain": [
       "59400"
      ]
     },
     "execution_count": 7,
     "metadata": {},
     "output_type": "execute_result"
    }
   ],
   "source": [
    "df_length = len(df)\n",
    "df_length"
   ]
  },
  {
   "cell_type": "code",
   "execution_count": 8,
   "metadata": {
    "ExecuteTime": {
     "end_time": "2022-12-28T00:09:20.628774Z",
     "start_time": "2022-12-28T00:09:20.627152Z"
    }
   },
   "outputs": [
    {
     "name": "stdout",
     "output_type": "stream",
     "text": [
      "The column names are: ['amount_tsh', 'date_recorded', 'funder', 'gps_height', 'installer', 'longitude', 'latitude', 'wpt_name', 'num_private', 'basin', 'subvillage', 'region', 'region_code', 'district_code', 'lga', 'ward', 'population', 'public_meeting', 'recorded_by', 'scheme_management', 'scheme_name', 'permit', 'construction_year', 'extraction_type', 'extraction_type_group', 'extraction_type_class', 'management', 'management_group', 'payment', 'payment_type', 'water_quality', 'quality_group', 'quantity', 'quantity_group', 'source', 'source_type', 'source_class', 'waterpoint_type', 'waterpoint_type_group']\n",
      " Number of columns: 39\n"
     ]
    }
   ],
   "source": [
    "col_names = list(df.columns)\n",
    "num_cols = len(col_names)\n",
    "\n",
    "print(f'The column names are: {col_names}\\n Number of columns: {num_cols}')"
   ]
  },
  {
   "cell_type": "markdown",
   "metadata": {},
   "source": [
    "### About the columns:\n",
    "amount_tsh - Total static head (amount water available to waterpoint)<br>\n",
    "date_recorded - The date the row was entered<br>\n",
    "funder - Who funded the well<br>\n",
    "gps_height - Altitude of the well<br>\n",
    "installer - Organization that installed the well<br>\n",
    "longitude - GPS coordinate<br>\n",
    "latitude - GPS coordinate<br>\n",
    "wpt_name - Name of the waterpoint if there is one<br>\n",
    "num_private - <br>\n",
    "basin - Geographic water basin<br>\n",
    "subvillage - Geographic location<br>\n",
    "region - Geographic location<br>\n",
    "region_code - Geographic location (coded)<br>\n",
    "district_code - Geographic location (coded)<br>\n",
    "lga - Geographic location<br>\n",
    "ward - Geographic location<br>\n",
    "population - Population around the well<br>\n",
    "public_meeting - True/False<br>\n",
    "recorded_by - Group entering this row of data<br>\n",
    "scheme_management - Who operates the waterpoint<br>\n",
    "scheme_name - Who operates the waterpoint<br>\n",
    "permit - If the waterpoint is permitted<br>\n",
    "construction_year - Year the waterpoint was constructed<br>\n",
    "extraction_type - The kind of extraction the waterpoint uses<br>\n",
    "extraction_type_group - The kind of extraction the waterpoint uses<br>\n",
    "extraction_type_class - The kind of extraction the waterpoint uses<br>\n",
    "management - How the waterpoint is managed<br>\n",
    "management_group - How the waterpoint is managed<br>\n",
    "payment - What the water costs<br>\n",
    "payment_type - What the water costs<br>\n",
    "water_quality - The quality of the water<br>\n",
    "quality_group - The quality of the water<br>\n",
    "quantity - The quantity of water<br>\n",
    "quantity_group - The quantity of water<br>\n",
    "source - The source of the water<br>\n",
    "source_type - The source of the water<br>\n",
    "source_class - The source of the water<br>\n",
    "waterpoint_type - The kind of waterpoint<br>\n",
    "waterpoint_type_group - The kind of waterpoint<br>"
   ]
  },
  {
   "cell_type": "code",
   "execution_count": 9,
   "metadata": {
    "ExecuteTime": {
     "end_time": "2022-12-28T00:09:20.643144Z",
     "start_time": "2022-12-28T00:09:20.629954Z"
    },
    "scrolled": false
   },
   "outputs": [
    {
     "data": {
      "text/html": [
       "<div>\n",
       "<style scoped>\n",
       "    .dataframe tbody tr th:only-of-type {\n",
       "        vertical-align: middle;\n",
       "    }\n",
       "\n",
       "    .dataframe tbody tr th {\n",
       "        vertical-align: top;\n",
       "    }\n",
       "\n",
       "    .dataframe thead th {\n",
       "        text-align: right;\n",
       "    }\n",
       "</style>\n",
       "<table border=\"1\" class=\"dataframe\">\n",
       "  <thead>\n",
       "    <tr style=\"text-align: right;\">\n",
       "      <th></th>\n",
       "      <th>amount_tsh</th>\n",
       "      <th>date_recorded</th>\n",
       "      <th>funder</th>\n",
       "      <th>gps_height</th>\n",
       "      <th>installer</th>\n",
       "      <th>longitude</th>\n",
       "      <th>latitude</th>\n",
       "      <th>wpt_name</th>\n",
       "      <th>num_private</th>\n",
       "      <th>basin</th>\n",
       "      <th>...</th>\n",
       "      <th>payment_type</th>\n",
       "      <th>water_quality</th>\n",
       "      <th>quality_group</th>\n",
       "      <th>quantity</th>\n",
       "      <th>quantity_group</th>\n",
       "      <th>source</th>\n",
       "      <th>source_type</th>\n",
       "      <th>source_class</th>\n",
       "      <th>waterpoint_type</th>\n",
       "      <th>waterpoint_type_group</th>\n",
       "    </tr>\n",
       "    <tr>\n",
       "      <th>id</th>\n",
       "      <th></th>\n",
       "      <th></th>\n",
       "      <th></th>\n",
       "      <th></th>\n",
       "      <th></th>\n",
       "      <th></th>\n",
       "      <th></th>\n",
       "      <th></th>\n",
       "      <th></th>\n",
       "      <th></th>\n",
       "      <th></th>\n",
       "      <th></th>\n",
       "      <th></th>\n",
       "      <th></th>\n",
       "      <th></th>\n",
       "      <th></th>\n",
       "      <th></th>\n",
       "      <th></th>\n",
       "      <th></th>\n",
       "      <th></th>\n",
       "      <th></th>\n",
       "    </tr>\n",
       "  </thead>\n",
       "  <tbody>\n",
       "    <tr>\n",
       "      <th>69572</th>\n",
       "      <td>6000.0</td>\n",
       "      <td>2011-03-14</td>\n",
       "      <td>Roman</td>\n",
       "      <td>1390</td>\n",
       "      <td>Roman</td>\n",
       "      <td>34.938093</td>\n",
       "      <td>-9.856322</td>\n",
       "      <td>none</td>\n",
       "      <td>0</td>\n",
       "      <td>Lake Nyasa</td>\n",
       "      <td>...</td>\n",
       "      <td>annually</td>\n",
       "      <td>soft</td>\n",
       "      <td>good</td>\n",
       "      <td>enough</td>\n",
       "      <td>enough</td>\n",
       "      <td>spring</td>\n",
       "      <td>spring</td>\n",
       "      <td>groundwater</td>\n",
       "      <td>communal standpipe</td>\n",
       "      <td>communal standpipe</td>\n",
       "    </tr>\n",
       "    <tr>\n",
       "      <th>8776</th>\n",
       "      <td>0.0</td>\n",
       "      <td>2013-03-06</td>\n",
       "      <td>Grumeti</td>\n",
       "      <td>1399</td>\n",
       "      <td>GRUMETI</td>\n",
       "      <td>34.698766</td>\n",
       "      <td>-2.147466</td>\n",
       "      <td>Zahanati</td>\n",
       "      <td>0</td>\n",
       "      <td>Lake Victoria</td>\n",
       "      <td>...</td>\n",
       "      <td>never pay</td>\n",
       "      <td>soft</td>\n",
       "      <td>good</td>\n",
       "      <td>insufficient</td>\n",
       "      <td>insufficient</td>\n",
       "      <td>rainwater harvesting</td>\n",
       "      <td>rainwater harvesting</td>\n",
       "      <td>surface</td>\n",
       "      <td>communal standpipe</td>\n",
       "      <td>communal standpipe</td>\n",
       "    </tr>\n",
       "    <tr>\n",
       "      <th>34310</th>\n",
       "      <td>25.0</td>\n",
       "      <td>2013-02-25</td>\n",
       "      <td>Lottery Club</td>\n",
       "      <td>686</td>\n",
       "      <td>World vision</td>\n",
       "      <td>37.460664</td>\n",
       "      <td>-3.821329</td>\n",
       "      <td>Kwa Mahundi</td>\n",
       "      <td>0</td>\n",
       "      <td>Pangani</td>\n",
       "      <td>...</td>\n",
       "      <td>per bucket</td>\n",
       "      <td>soft</td>\n",
       "      <td>good</td>\n",
       "      <td>enough</td>\n",
       "      <td>enough</td>\n",
       "      <td>dam</td>\n",
       "      <td>dam</td>\n",
       "      <td>surface</td>\n",
       "      <td>communal standpipe multiple</td>\n",
       "      <td>communal standpipe</td>\n",
       "    </tr>\n",
       "    <tr>\n",
       "      <th>67743</th>\n",
       "      <td>0.0</td>\n",
       "      <td>2013-01-28</td>\n",
       "      <td>Unicef</td>\n",
       "      <td>263</td>\n",
       "      <td>UNICEF</td>\n",
       "      <td>38.486161</td>\n",
       "      <td>-11.155298</td>\n",
       "      <td>Zahanati Ya Nanyumbu</td>\n",
       "      <td>0</td>\n",
       "      <td>Ruvuma / Southern Coast</td>\n",
       "      <td>...</td>\n",
       "      <td>never pay</td>\n",
       "      <td>soft</td>\n",
       "      <td>good</td>\n",
       "      <td>dry</td>\n",
       "      <td>dry</td>\n",
       "      <td>machine dbh</td>\n",
       "      <td>borehole</td>\n",
       "      <td>groundwater</td>\n",
       "      <td>communal standpipe multiple</td>\n",
       "      <td>communal standpipe</td>\n",
       "    </tr>\n",
       "    <tr>\n",
       "      <th>19728</th>\n",
       "      <td>0.0</td>\n",
       "      <td>2011-07-13</td>\n",
       "      <td>Action In A</td>\n",
       "      <td>0</td>\n",
       "      <td>Artisan</td>\n",
       "      <td>31.130847</td>\n",
       "      <td>-1.825359</td>\n",
       "      <td>Shuleni</td>\n",
       "      <td>0</td>\n",
       "      <td>Lake Victoria</td>\n",
       "      <td>...</td>\n",
       "      <td>never pay</td>\n",
       "      <td>soft</td>\n",
       "      <td>good</td>\n",
       "      <td>seasonal</td>\n",
       "      <td>seasonal</td>\n",
       "      <td>rainwater harvesting</td>\n",
       "      <td>rainwater harvesting</td>\n",
       "      <td>surface</td>\n",
       "      <td>communal standpipe</td>\n",
       "      <td>communal standpipe</td>\n",
       "    </tr>\n",
       "  </tbody>\n",
       "</table>\n",
       "<p>5 rows × 39 columns</p>\n",
       "</div>"
      ],
      "text/plain": [
       "       amount_tsh date_recorded        funder  gps_height     installer  \\\n",
       "id                                                                        \n",
       "69572      6000.0    2011-03-14         Roman        1390         Roman   \n",
       "8776          0.0    2013-03-06       Grumeti        1399       GRUMETI   \n",
       "34310        25.0    2013-02-25  Lottery Club         686  World vision   \n",
       "67743         0.0    2013-01-28        Unicef         263        UNICEF   \n",
       "19728         0.0    2011-07-13   Action In A           0       Artisan   \n",
       "\n",
       "       longitude   latitude              wpt_name  num_private  \\\n",
       "id                                                               \n",
       "69572  34.938093  -9.856322                  none            0   \n",
       "8776   34.698766  -2.147466              Zahanati            0   \n",
       "34310  37.460664  -3.821329           Kwa Mahundi            0   \n",
       "67743  38.486161 -11.155298  Zahanati Ya Nanyumbu            0   \n",
       "19728  31.130847  -1.825359               Shuleni            0   \n",
       "\n",
       "                         basin  ... payment_type water_quality  quality_group  \\\n",
       "id                              ...                                             \n",
       "69572               Lake Nyasa  ...     annually          soft           good   \n",
       "8776             Lake Victoria  ...    never pay          soft           good   \n",
       "34310                  Pangani  ...   per bucket          soft           good   \n",
       "67743  Ruvuma / Southern Coast  ...    never pay          soft           good   \n",
       "19728            Lake Victoria  ...    never pay          soft           good   \n",
       "\n",
       "           quantity quantity_group                source  \\\n",
       "id                                                         \n",
       "69572        enough         enough                spring   \n",
       "8776   insufficient   insufficient  rainwater harvesting   \n",
       "34310        enough         enough                   dam   \n",
       "67743           dry            dry           machine dbh   \n",
       "19728      seasonal       seasonal  rainwater harvesting   \n",
       "\n",
       "                source_type source_class              waterpoint_type  \\\n",
       "id                                                                      \n",
       "69572                spring  groundwater           communal standpipe   \n",
       "8776   rainwater harvesting      surface           communal standpipe   \n",
       "34310                   dam      surface  communal standpipe multiple   \n",
       "67743              borehole  groundwater  communal standpipe multiple   \n",
       "19728  rainwater harvesting      surface           communal standpipe   \n",
       "\n",
       "      waterpoint_type_group  \n",
       "id                           \n",
       "69572    communal standpipe  \n",
       "8776     communal standpipe  \n",
       "34310    communal standpipe  \n",
       "67743    communal standpipe  \n",
       "19728    communal standpipe  \n",
       "\n",
       "[5 rows x 39 columns]"
      ]
     },
     "execution_count": 9,
     "metadata": {},
     "output_type": "execute_result"
    }
   ],
   "source": [
    "# let's see what we're working with\n",
    "df.head()"
   ]
  },
  {
   "cell_type": "markdown",
   "metadata": {},
   "source": [
    "The condition labels are in a separate DataFrame so we need to bring them in."
   ]
  },
  {
   "cell_type": "code",
   "execution_count": 10,
   "metadata": {
    "ExecuteTime": {
     "end_time": "2022-12-28T00:09:20.659170Z",
     "start_time": "2022-12-28T00:09:20.644286Z"
    }
   },
   "outputs": [],
   "source": [
    "df_target = pd.read_csv('data/training_set_labels.csv', index_col='id')"
   ]
  },
  {
   "cell_type": "code",
   "execution_count": 11,
   "metadata": {
    "ExecuteTime": {
     "end_time": "2022-12-28T00:09:20.662520Z",
     "start_time": "2022-12-28T00:09:20.660255Z"
    }
   },
   "outputs": [
    {
     "data": {
      "text/plain": [
       "Index(['status_group'], dtype='object')"
      ]
     },
     "execution_count": 11,
     "metadata": {},
     "output_type": "execute_result"
    }
   ],
   "source": [
    "df_target.columns"
   ]
  },
  {
   "cell_type": "code",
   "execution_count": 12,
   "metadata": {
    "ExecuteTime": {
     "end_time": "2022-12-28T00:09:20.670555Z",
     "start_time": "2022-12-28T00:09:20.663336Z"
    }
   },
   "outputs": [
    {
     "name": "stdout",
     "output_type": "stream",
     "text": [
      "<class 'pandas.core.frame.DataFrame'>\n",
      "Int64Index: 59400 entries, 69572 to 26348\n",
      "Data columns (total 1 columns):\n",
      " #   Column        Non-Null Count  Dtype \n",
      "---  ------        --------------  ----- \n",
      " 0   status_group  59400 non-null  object\n",
      "dtypes: object(1)\n",
      "memory usage: 928.1+ KB\n"
     ]
    },
    {
     "data": {
      "text/html": [
       "<div>\n",
       "<style scoped>\n",
       "    .dataframe tbody tr th:only-of-type {\n",
       "        vertical-align: middle;\n",
       "    }\n",
       "\n",
       "    .dataframe tbody tr th {\n",
       "        vertical-align: top;\n",
       "    }\n",
       "\n",
       "    .dataframe thead th {\n",
       "        text-align: right;\n",
       "    }\n",
       "</style>\n",
       "<table border=\"1\" class=\"dataframe\">\n",
       "  <thead>\n",
       "    <tr style=\"text-align: right;\">\n",
       "      <th></th>\n",
       "      <th>status_group</th>\n",
       "    </tr>\n",
       "    <tr>\n",
       "      <th>id</th>\n",
       "      <th></th>\n",
       "    </tr>\n",
       "  </thead>\n",
       "  <tbody>\n",
       "    <tr>\n",
       "      <th>69572</th>\n",
       "      <td>functional</td>\n",
       "    </tr>\n",
       "    <tr>\n",
       "      <th>8776</th>\n",
       "      <td>functional</td>\n",
       "    </tr>\n",
       "    <tr>\n",
       "      <th>34310</th>\n",
       "      <td>functional</td>\n",
       "    </tr>\n",
       "    <tr>\n",
       "      <th>67743</th>\n",
       "      <td>non functional</td>\n",
       "    </tr>\n",
       "    <tr>\n",
       "      <th>19728</th>\n",
       "      <td>functional</td>\n",
       "    </tr>\n",
       "  </tbody>\n",
       "</table>\n",
       "</div>"
      ],
      "text/plain": [
       "         status_group\n",
       "id                   \n",
       "69572      functional\n",
       "8776       functional\n",
       "34310      functional\n",
       "67743  non functional\n",
       "19728      functional"
      ]
     },
     "execution_count": 12,
     "metadata": {},
     "output_type": "execute_result"
    }
   ],
   "source": [
    "df_target.info(),\n",
    "df_target.head()"
   ]
  },
  {
   "cell_type": "code",
   "execution_count": 13,
   "metadata": {
    "ExecuteTime": {
     "end_time": "2022-12-28T00:09:20.673730Z",
     "start_time": "2022-12-28T00:09:20.671315Z"
    }
   },
   "outputs": [
    {
     "data": {
      "text/plain": [
       "((59400, 1), (59400, 39))"
      ]
     },
     "execution_count": 13,
     "metadata": {},
     "output_type": "execute_result"
    }
   ],
   "source": [
    "# looks like we have the same number of rows.\n",
    "df_target.shape, df.shape"
   ]
  },
  {
   "cell_type": "code",
   "execution_count": 14,
   "metadata": {
    "ExecuteTime": {
     "end_time": "2022-12-28T00:09:20.703921Z",
     "start_time": "2022-12-28T00:09:20.674564Z"
    }
   },
   "outputs": [],
   "source": [
    "df = df.join(df_target)"
   ]
  },
  {
   "cell_type": "code",
   "execution_count": 15,
   "metadata": {
    "ExecuteTime": {
     "end_time": "2022-12-28T00:09:20.707086Z",
     "start_time": "2022-12-28T00:09:20.704948Z"
    }
   },
   "outputs": [
    {
     "data": {
      "text/plain": [
       "(59400, 40)"
      ]
     },
     "execution_count": 15,
     "metadata": {},
     "output_type": "execute_result"
    }
   ],
   "source": [
    "# okay, our data is consolidated\n",
    "df.shape"
   ]
  },
  {
   "cell_type": "code",
   "execution_count": 16,
   "metadata": {
    "ExecuteTime": {
     "end_time": "2022-12-28T00:09:20.720391Z",
     "start_time": "2022-12-28T00:09:20.707878Z"
    }
   },
   "outputs": [
    {
     "data": {
      "text/html": [
       "<div>\n",
       "<style scoped>\n",
       "    .dataframe tbody tr th:only-of-type {\n",
       "        vertical-align: middle;\n",
       "    }\n",
       "\n",
       "    .dataframe tbody tr th {\n",
       "        vertical-align: top;\n",
       "    }\n",
       "\n",
       "    .dataframe thead th {\n",
       "        text-align: right;\n",
       "    }\n",
       "</style>\n",
       "<table border=\"1\" class=\"dataframe\">\n",
       "  <thead>\n",
       "    <tr style=\"text-align: right;\">\n",
       "      <th></th>\n",
       "      <th>amount_tsh</th>\n",
       "      <th>date_recorded</th>\n",
       "      <th>funder</th>\n",
       "      <th>gps_height</th>\n",
       "      <th>installer</th>\n",
       "      <th>longitude</th>\n",
       "      <th>latitude</th>\n",
       "      <th>wpt_name</th>\n",
       "      <th>num_private</th>\n",
       "      <th>basin</th>\n",
       "      <th>...</th>\n",
       "      <th>water_quality</th>\n",
       "      <th>quality_group</th>\n",
       "      <th>quantity</th>\n",
       "      <th>quantity_group</th>\n",
       "      <th>source</th>\n",
       "      <th>source_type</th>\n",
       "      <th>source_class</th>\n",
       "      <th>waterpoint_type</th>\n",
       "      <th>waterpoint_type_group</th>\n",
       "      <th>status_group</th>\n",
       "    </tr>\n",
       "    <tr>\n",
       "      <th>id</th>\n",
       "      <th></th>\n",
       "      <th></th>\n",
       "      <th></th>\n",
       "      <th></th>\n",
       "      <th></th>\n",
       "      <th></th>\n",
       "      <th></th>\n",
       "      <th></th>\n",
       "      <th></th>\n",
       "      <th></th>\n",
       "      <th></th>\n",
       "      <th></th>\n",
       "      <th></th>\n",
       "      <th></th>\n",
       "      <th></th>\n",
       "      <th></th>\n",
       "      <th></th>\n",
       "      <th></th>\n",
       "      <th></th>\n",
       "      <th></th>\n",
       "      <th></th>\n",
       "    </tr>\n",
       "  </thead>\n",
       "  <tbody>\n",
       "    <tr>\n",
       "      <th>69572</th>\n",
       "      <td>6000.0</td>\n",
       "      <td>2011-03-14</td>\n",
       "      <td>Roman</td>\n",
       "      <td>1390</td>\n",
       "      <td>Roman</td>\n",
       "      <td>34.938093</td>\n",
       "      <td>-9.856322</td>\n",
       "      <td>none</td>\n",
       "      <td>0</td>\n",
       "      <td>Lake Nyasa</td>\n",
       "      <td>...</td>\n",
       "      <td>soft</td>\n",
       "      <td>good</td>\n",
       "      <td>enough</td>\n",
       "      <td>enough</td>\n",
       "      <td>spring</td>\n",
       "      <td>spring</td>\n",
       "      <td>groundwater</td>\n",
       "      <td>communal standpipe</td>\n",
       "      <td>communal standpipe</td>\n",
       "      <td>functional</td>\n",
       "    </tr>\n",
       "    <tr>\n",
       "      <th>8776</th>\n",
       "      <td>0.0</td>\n",
       "      <td>2013-03-06</td>\n",
       "      <td>Grumeti</td>\n",
       "      <td>1399</td>\n",
       "      <td>GRUMETI</td>\n",
       "      <td>34.698766</td>\n",
       "      <td>-2.147466</td>\n",
       "      <td>Zahanati</td>\n",
       "      <td>0</td>\n",
       "      <td>Lake Victoria</td>\n",
       "      <td>...</td>\n",
       "      <td>soft</td>\n",
       "      <td>good</td>\n",
       "      <td>insufficient</td>\n",
       "      <td>insufficient</td>\n",
       "      <td>rainwater harvesting</td>\n",
       "      <td>rainwater harvesting</td>\n",
       "      <td>surface</td>\n",
       "      <td>communal standpipe</td>\n",
       "      <td>communal standpipe</td>\n",
       "      <td>functional</td>\n",
       "    </tr>\n",
       "    <tr>\n",
       "      <th>34310</th>\n",
       "      <td>25.0</td>\n",
       "      <td>2013-02-25</td>\n",
       "      <td>Lottery Club</td>\n",
       "      <td>686</td>\n",
       "      <td>World vision</td>\n",
       "      <td>37.460664</td>\n",
       "      <td>-3.821329</td>\n",
       "      <td>Kwa Mahundi</td>\n",
       "      <td>0</td>\n",
       "      <td>Pangani</td>\n",
       "      <td>...</td>\n",
       "      <td>soft</td>\n",
       "      <td>good</td>\n",
       "      <td>enough</td>\n",
       "      <td>enough</td>\n",
       "      <td>dam</td>\n",
       "      <td>dam</td>\n",
       "      <td>surface</td>\n",
       "      <td>communal standpipe multiple</td>\n",
       "      <td>communal standpipe</td>\n",
       "      <td>functional</td>\n",
       "    </tr>\n",
       "    <tr>\n",
       "      <th>67743</th>\n",
       "      <td>0.0</td>\n",
       "      <td>2013-01-28</td>\n",
       "      <td>Unicef</td>\n",
       "      <td>263</td>\n",
       "      <td>UNICEF</td>\n",
       "      <td>38.486161</td>\n",
       "      <td>-11.155298</td>\n",
       "      <td>Zahanati Ya Nanyumbu</td>\n",
       "      <td>0</td>\n",
       "      <td>Ruvuma / Southern Coast</td>\n",
       "      <td>...</td>\n",
       "      <td>soft</td>\n",
       "      <td>good</td>\n",
       "      <td>dry</td>\n",
       "      <td>dry</td>\n",
       "      <td>machine dbh</td>\n",
       "      <td>borehole</td>\n",
       "      <td>groundwater</td>\n",
       "      <td>communal standpipe multiple</td>\n",
       "      <td>communal standpipe</td>\n",
       "      <td>non functional</td>\n",
       "    </tr>\n",
       "    <tr>\n",
       "      <th>19728</th>\n",
       "      <td>0.0</td>\n",
       "      <td>2011-07-13</td>\n",
       "      <td>Action In A</td>\n",
       "      <td>0</td>\n",
       "      <td>Artisan</td>\n",
       "      <td>31.130847</td>\n",
       "      <td>-1.825359</td>\n",
       "      <td>Shuleni</td>\n",
       "      <td>0</td>\n",
       "      <td>Lake Victoria</td>\n",
       "      <td>...</td>\n",
       "      <td>soft</td>\n",
       "      <td>good</td>\n",
       "      <td>seasonal</td>\n",
       "      <td>seasonal</td>\n",
       "      <td>rainwater harvesting</td>\n",
       "      <td>rainwater harvesting</td>\n",
       "      <td>surface</td>\n",
       "      <td>communal standpipe</td>\n",
       "      <td>communal standpipe</td>\n",
       "      <td>functional</td>\n",
       "    </tr>\n",
       "  </tbody>\n",
       "</table>\n",
       "<p>5 rows × 40 columns</p>\n",
       "</div>"
      ],
      "text/plain": [
       "       amount_tsh date_recorded        funder  gps_height     installer  \\\n",
       "id                                                                        \n",
       "69572      6000.0    2011-03-14         Roman        1390         Roman   \n",
       "8776          0.0    2013-03-06       Grumeti        1399       GRUMETI   \n",
       "34310        25.0    2013-02-25  Lottery Club         686  World vision   \n",
       "67743         0.0    2013-01-28        Unicef         263        UNICEF   \n",
       "19728         0.0    2011-07-13   Action In A           0       Artisan   \n",
       "\n",
       "       longitude   latitude              wpt_name  num_private  \\\n",
       "id                                                               \n",
       "69572  34.938093  -9.856322                  none            0   \n",
       "8776   34.698766  -2.147466              Zahanati            0   \n",
       "34310  37.460664  -3.821329           Kwa Mahundi            0   \n",
       "67743  38.486161 -11.155298  Zahanati Ya Nanyumbu            0   \n",
       "19728  31.130847  -1.825359               Shuleni            0   \n",
       "\n",
       "                         basin  ... water_quality quality_group      quantity  \\\n",
       "id                              ...                                             \n",
       "69572               Lake Nyasa  ...          soft          good        enough   \n",
       "8776             Lake Victoria  ...          soft          good  insufficient   \n",
       "34310                  Pangani  ...          soft          good        enough   \n",
       "67743  Ruvuma / Southern Coast  ...          soft          good           dry   \n",
       "19728            Lake Victoria  ...          soft          good      seasonal   \n",
       "\n",
       "       quantity_group                source           source_type  \\\n",
       "id                                                                  \n",
       "69572          enough                spring                spring   \n",
       "8776     insufficient  rainwater harvesting  rainwater harvesting   \n",
       "34310          enough                   dam                   dam   \n",
       "67743             dry           machine dbh              borehole   \n",
       "19728        seasonal  rainwater harvesting  rainwater harvesting   \n",
       "\n",
       "       source_class              waterpoint_type waterpoint_type_group  \\\n",
       "id                                                                       \n",
       "69572   groundwater           communal standpipe    communal standpipe   \n",
       "8776        surface           communal standpipe    communal standpipe   \n",
       "34310       surface  communal standpipe multiple    communal standpipe   \n",
       "67743   groundwater  communal standpipe multiple    communal standpipe   \n",
       "19728       surface           communal standpipe    communal standpipe   \n",
       "\n",
       "         status_group  \n",
       "id                     \n",
       "69572      functional  \n",
       "8776       functional  \n",
       "34310      functional  \n",
       "67743  non functional  \n",
       "19728      functional  \n",
       "\n",
       "[5 rows x 40 columns]"
      ]
     },
     "execution_count": 16,
     "metadata": {},
     "output_type": "execute_result"
    }
   ],
   "source": [
    "df.head()"
   ]
  },
  {
   "cell_type": "markdown",
   "metadata": {},
   "source": [
    "What are we looking at?"
   ]
  },
  {
   "cell_type": "code",
   "execution_count": 17,
   "metadata": {
    "ExecuteTime": {
     "end_time": "2022-12-28T00:09:20.791640Z",
     "start_time": "2022-12-28T00:09:20.721164Z"
    },
    "scrolled": true
   },
   "outputs": [
    {
     "name": "stdout",
     "output_type": "stream",
     "text": [
      "<class 'pandas.core.frame.DataFrame'>\n",
      "Int64Index: 59400 entries, 69572 to 26348\n",
      "Data columns (total 40 columns):\n",
      " #   Column                 Non-Null Count  Dtype  \n",
      "---  ------                 --------------  -----  \n",
      " 0   amount_tsh             59400 non-null  float64\n",
      " 1   date_recorded          59400 non-null  object \n",
      " 2   funder                 55765 non-null  object \n",
      " 3   gps_height             59400 non-null  int64  \n",
      " 4   installer              55745 non-null  object \n",
      " 5   longitude              59400 non-null  float64\n",
      " 6   latitude               59400 non-null  float64\n",
      " 7   wpt_name               59400 non-null  object \n",
      " 8   num_private            59400 non-null  int64  \n",
      " 9   basin                  59400 non-null  object \n",
      " 10  subvillage             59029 non-null  object \n",
      " 11  region                 59400 non-null  object \n",
      " 12  region_code            59400 non-null  int64  \n",
      " 13  district_code          59400 non-null  int64  \n",
      " 14  lga                    59400 non-null  object \n",
      " 15  ward                   59400 non-null  object \n",
      " 16  population             59400 non-null  int64  \n",
      " 17  public_meeting         56066 non-null  object \n",
      " 18  recorded_by            59400 non-null  object \n",
      " 19  scheme_management      55523 non-null  object \n",
      " 20  scheme_name            31234 non-null  object \n",
      " 21  permit                 56344 non-null  object \n",
      " 22  construction_year      59400 non-null  int64  \n",
      " 23  extraction_type        59400 non-null  object \n",
      " 24  extraction_type_group  59400 non-null  object \n",
      " 25  extraction_type_class  59400 non-null  object \n",
      " 26  management             59400 non-null  object \n",
      " 27  management_group       59400 non-null  object \n",
      " 28  payment                59400 non-null  object \n",
      " 29  payment_type           59400 non-null  object \n",
      " 30  water_quality          59400 non-null  object \n",
      " 31  quality_group          59400 non-null  object \n",
      " 32  quantity               59400 non-null  object \n",
      " 33  quantity_group         59400 non-null  object \n",
      " 34  source                 59400 non-null  object \n",
      " 35  source_type            59400 non-null  object \n",
      " 36  source_class           59400 non-null  object \n",
      " 37  waterpoint_type        59400 non-null  object \n",
      " 38  waterpoint_type_group  59400 non-null  object \n",
      " 39  status_group           59400 non-null  object \n",
      "dtypes: float64(3), int64(6), object(31)\n",
      "memory usage: 21.1+ MB\n"
     ]
    }
   ],
   "source": [
    "df.info()"
   ]
  },
  {
   "cell_type": "code",
   "execution_count": 18,
   "metadata": {
    "ExecuteTime": {
     "end_time": "2022-12-28T00:09:20.797985Z",
     "start_time": "2022-12-28T00:09:20.792605Z"
    }
   },
   "outputs": [
    {
     "data": {
      "text/plain": [
       "59400"
      ]
     },
     "execution_count": 18,
     "metadata": {},
     "output_type": "execute_result"
    }
   ],
   "source": [
    "df.index.value_counts().sum()"
   ]
  },
  {
   "cell_type": "markdown",
   "metadata": {},
   "source": [
    "The index column, 'id' is a unique identifier for each row in the DataFrame"
   ]
  },
  {
   "cell_type": "code",
   "execution_count": 19,
   "metadata": {
    "ExecuteTime": {
     "end_time": "2022-12-28T00:09:20.815527Z",
     "start_time": "2022-12-28T00:09:20.799220Z"
    }
   },
   "outputs": [
    {
     "data": {
      "text/plain": [
       "none                           3563\n",
       "Shuleni                        1748\n",
       "Zahanati                        830\n",
       "Msikitini                       535\n",
       "Kanisani                        323\n",
       "                               ... \n",
       "Kwa Oldiani Gara                  1\n",
       "Kwa Mama Shedi                    1\n",
       "Kwamtemele                        1\n",
       "Shule Ya Msingi Kinang'Weli       1\n",
       "Kwa Mzee Jaba                     1\n",
       "Name: wpt_name, Length: 37400, dtype: int64"
      ]
     },
     "execution_count": 19,
     "metadata": {},
     "output_type": "execute_result"
    }
   ],
   "source": [
    "df.wpt_name.value_counts()"
   ]
  },
  {
   "cell_type": "markdown",
   "metadata": {
    "ExecuteTime": {
     "end_time": "2022-12-27T21:06:09.557209Z",
     "start_time": "2022-12-27T21:06:09.537969Z"
    }
   },
   "source": [
    "The 'wpt_name' column is interesting because most waterpoints have names and some of those names are repeated and show up frequently."
   ]
  },
  {
   "cell_type": "code",
   "execution_count": 20,
   "metadata": {
    "ExecuteTime": {
     "end_time": "2022-12-28T00:09:20.819401Z",
     "start_time": "2022-12-28T00:09:20.816385Z"
    },
    "scrolled": true
   },
   "outputs": [
    {
     "data": {
      "text/plain": [
       "0      58643\n",
       "6         81\n",
       "1         73\n",
       "5         46\n",
       "8         46\n",
       "       ...  \n",
       "180        1\n",
       "213        1\n",
       "23         1\n",
       "55         1\n",
       "94         1\n",
       "Name: num_private, Length: 65, dtype: int64"
      ]
     },
     "execution_count": 20,
     "metadata": {},
     "output_type": "execute_result"
    }
   ],
   "source": [
    "df.num_private.value_counts()"
   ]
  },
  {
   "cell_type": "code",
   "execution_count": 21,
   "metadata": {
    "ExecuteTime": {
     "end_time": "2022-12-28T00:09:20.823023Z",
     "start_time": "2022-12-28T00:09:20.820149Z"
    },
    "scrolled": true
   },
   "outputs": [
    {
     "name": "stdout",
     "output_type": "stream",
     "text": [
      "Zero is the most common value in \"num_private\" and it makes up approximately 99.0% of entries.\n"
     ]
    }
   ],
   "source": [
    "percent_of_zeroes = round(100 * (df.num_private.value_counts()[0]/len(df.num_private)))\n",
    "print(f'Zero is the most common value in \"num_private\" and it makes up approximately {percent_of_zeroes}% of entries.')"
   ]
  },
  {
   "cell_type": "markdown",
   "metadata": {},
   "source": [
    "All of the following columns describe the geographic location: \n",
    "'longitude', 'latitude', 'basin', 'subvillage', 'region', 'region_code', 'distric_code', 'lga', 'ward'"
   ]
  },
  {
   "cell_type": "code",
   "execution_count": 22,
   "metadata": {
    "ExecuteTime": {
     "end_time": "2022-12-28T00:09:20.850083Z",
     "start_time": "2022-12-28T00:09:20.826495Z"
    }
   },
   "outputs": [
    {
     "data": {
      "text/html": [
       "<div>\n",
       "<style scoped>\n",
       "    .dataframe tbody tr th:only-of-type {\n",
       "        vertical-align: middle;\n",
       "    }\n",
       "\n",
       "    .dataframe tbody tr th {\n",
       "        vertical-align: top;\n",
       "    }\n",
       "\n",
       "    .dataframe thead th {\n",
       "        text-align: right;\n",
       "    }\n",
       "</style>\n",
       "<table border=\"1\" class=\"dataframe\">\n",
       "  <thead>\n",
       "    <tr style=\"text-align: right;\">\n",
       "      <th></th>\n",
       "      <th>amount_tsh</th>\n",
       "      <th>gps_height</th>\n",
       "      <th>longitude</th>\n",
       "      <th>latitude</th>\n",
       "      <th>num_private</th>\n",
       "      <th>region_code</th>\n",
       "      <th>district_code</th>\n",
       "      <th>population</th>\n",
       "      <th>construction_year</th>\n",
       "    </tr>\n",
       "  </thead>\n",
       "  <tbody>\n",
       "    <tr>\n",
       "      <th>count</th>\n",
       "      <td>59400.000000</td>\n",
       "      <td>59400.000000</td>\n",
       "      <td>59400.000000</td>\n",
       "      <td>5.940000e+04</td>\n",
       "      <td>59400.000000</td>\n",
       "      <td>59400.000000</td>\n",
       "      <td>59400.000000</td>\n",
       "      <td>59400.000000</td>\n",
       "      <td>59400.000000</td>\n",
       "    </tr>\n",
       "    <tr>\n",
       "      <th>mean</th>\n",
       "      <td>317.650385</td>\n",
       "      <td>668.297239</td>\n",
       "      <td>34.077427</td>\n",
       "      <td>-5.706033e+00</td>\n",
       "      <td>0.474141</td>\n",
       "      <td>15.297003</td>\n",
       "      <td>5.629747</td>\n",
       "      <td>179.909983</td>\n",
       "      <td>1300.652475</td>\n",
       "    </tr>\n",
       "    <tr>\n",
       "      <th>std</th>\n",
       "      <td>2997.574558</td>\n",
       "      <td>693.116350</td>\n",
       "      <td>6.567432</td>\n",
       "      <td>2.946019e+00</td>\n",
       "      <td>12.236230</td>\n",
       "      <td>17.587406</td>\n",
       "      <td>9.633649</td>\n",
       "      <td>471.482176</td>\n",
       "      <td>951.620547</td>\n",
       "    </tr>\n",
       "    <tr>\n",
       "      <th>min</th>\n",
       "      <td>0.000000</td>\n",
       "      <td>-90.000000</td>\n",
       "      <td>0.000000</td>\n",
       "      <td>-1.164944e+01</td>\n",
       "      <td>0.000000</td>\n",
       "      <td>1.000000</td>\n",
       "      <td>0.000000</td>\n",
       "      <td>0.000000</td>\n",
       "      <td>0.000000</td>\n",
       "    </tr>\n",
       "    <tr>\n",
       "      <th>25%</th>\n",
       "      <td>0.000000</td>\n",
       "      <td>0.000000</td>\n",
       "      <td>33.090347</td>\n",
       "      <td>-8.540621e+00</td>\n",
       "      <td>0.000000</td>\n",
       "      <td>5.000000</td>\n",
       "      <td>2.000000</td>\n",
       "      <td>0.000000</td>\n",
       "      <td>0.000000</td>\n",
       "    </tr>\n",
       "    <tr>\n",
       "      <th>50%</th>\n",
       "      <td>0.000000</td>\n",
       "      <td>369.000000</td>\n",
       "      <td>34.908743</td>\n",
       "      <td>-5.021597e+00</td>\n",
       "      <td>0.000000</td>\n",
       "      <td>12.000000</td>\n",
       "      <td>3.000000</td>\n",
       "      <td>25.000000</td>\n",
       "      <td>1986.000000</td>\n",
       "    </tr>\n",
       "    <tr>\n",
       "      <th>75%</th>\n",
       "      <td>20.000000</td>\n",
       "      <td>1319.250000</td>\n",
       "      <td>37.178387</td>\n",
       "      <td>-3.326156e+00</td>\n",
       "      <td>0.000000</td>\n",
       "      <td>17.000000</td>\n",
       "      <td>5.000000</td>\n",
       "      <td>215.000000</td>\n",
       "      <td>2004.000000</td>\n",
       "    </tr>\n",
       "    <tr>\n",
       "      <th>max</th>\n",
       "      <td>350000.000000</td>\n",
       "      <td>2770.000000</td>\n",
       "      <td>40.345193</td>\n",
       "      <td>-2.000000e-08</td>\n",
       "      <td>1776.000000</td>\n",
       "      <td>99.000000</td>\n",
       "      <td>80.000000</td>\n",
       "      <td>30500.000000</td>\n",
       "      <td>2013.000000</td>\n",
       "    </tr>\n",
       "  </tbody>\n",
       "</table>\n",
       "</div>"
      ],
      "text/plain": [
       "          amount_tsh    gps_height     longitude      latitude   num_private  \\\n",
       "count   59400.000000  59400.000000  59400.000000  5.940000e+04  59400.000000   \n",
       "mean      317.650385    668.297239     34.077427 -5.706033e+00      0.474141   \n",
       "std      2997.574558    693.116350      6.567432  2.946019e+00     12.236230   \n",
       "min         0.000000    -90.000000      0.000000 -1.164944e+01      0.000000   \n",
       "25%         0.000000      0.000000     33.090347 -8.540621e+00      0.000000   \n",
       "50%         0.000000    369.000000     34.908743 -5.021597e+00      0.000000   \n",
       "75%        20.000000   1319.250000     37.178387 -3.326156e+00      0.000000   \n",
       "max    350000.000000   2770.000000     40.345193 -2.000000e-08   1776.000000   \n",
       "\n",
       "        region_code  district_code    population  construction_year  \n",
       "count  59400.000000   59400.000000  59400.000000       59400.000000  \n",
       "mean      15.297003       5.629747    179.909983        1300.652475  \n",
       "std       17.587406       9.633649    471.482176         951.620547  \n",
       "min        1.000000       0.000000      0.000000           0.000000  \n",
       "25%        5.000000       2.000000      0.000000           0.000000  \n",
       "50%       12.000000       3.000000     25.000000        1986.000000  \n",
       "75%       17.000000       5.000000    215.000000        2004.000000  \n",
       "max       99.000000      80.000000  30500.000000        2013.000000  "
      ]
     },
     "execution_count": 22,
     "metadata": {},
     "output_type": "execute_result"
    }
   ],
   "source": [
    "df.describe()"
   ]
  },
  {
   "cell_type": "markdown",
   "metadata": {},
   "source": [
    "I need to look into the 'construction_year' column because it has a minimum year of '0'."
   ]
  },
  {
   "cell_type": "code",
   "execution_count": 23,
   "metadata": {
    "ExecuteTime": {
     "end_time": "2022-12-28T00:09:20.854385Z",
     "start_time": "2022-12-28T00:09:20.851739Z"
    },
    "scrolled": true
   },
   "outputs": [
    {
     "name": "stdout",
     "output_type": "stream",
     "text": [
      "34.86% of the values in the column are zero\n"
     ]
    }
   ],
   "source": [
    "year_zero_percent = round(100 * df.construction_year.value_counts(ascending=False)\\\n",
    "      [0]/len(df.construction_year), ndigits=2)\n",
    "print(f'{year_zero_percent}% of the values in the column are zero')"
   ]
  },
  {
   "cell_type": "markdown",
   "metadata": {},
   "source": [
    "I will have to remove all values of zero, filling them as null values and decide how to proceed when dealing with other null values."
   ]
  },
  {
   "cell_type": "code",
   "execution_count": 24,
   "metadata": {
    "ExecuteTime": {
     "end_time": "2022-12-28T00:09:20.859235Z",
     "start_time": "2022-12-28T00:09:20.855189Z"
    }
   },
   "outputs": [],
   "source": [
    "df['construction_year'] = df['construction_year'].replace({0:pd.NA})"
   ]
  },
  {
   "cell_type": "code",
   "execution_count": 25,
   "metadata": {
    "ExecuteTime": {
     "end_time": "2022-12-28T00:09:20.862603Z",
     "start_time": "2022-12-28T00:09:20.860161Z"
    }
   },
   "outputs": [
    {
     "data": {
      "text/plain": [
       "id\n",
       "69572    1999\n",
       "8776     2010\n",
       "34310    2009\n",
       "67743    1986\n",
       "19728    <NA>\n",
       "Name: construction_year, dtype: object"
      ]
     },
     "execution_count": 25,
     "metadata": {},
     "output_type": "execute_result"
    }
   ],
   "source": [
    "df.construction_year.head()"
   ]
  },
  {
   "cell_type": "markdown",
   "metadata": {},
   "source": [
    "The 'date_recorded' and 'construction_year' columns need to be converted to datetime pandas."
   ]
  },
  {
   "cell_type": "markdown",
   "metadata": {},
   "source": [
    "### Addressing Null Values"
   ]
  },
  {
   "cell_type": "code",
   "execution_count": 26,
   "metadata": {
    "ExecuteTime": {
     "end_time": "2022-12-28T00:09:20.914540Z",
     "start_time": "2022-12-28T00:09:20.863913Z"
    },
    "scrolled": false
   },
   "outputs": [
    {
     "data": {
      "text/plain": [
       "amount_tsh                   0\n",
       "date_recorded                0\n",
       "funder                    3635\n",
       "gps_height                   0\n",
       "installer                 3655\n",
       "longitude                    0\n",
       "latitude                     0\n",
       "wpt_name                     0\n",
       "num_private                  0\n",
       "basin                        0\n",
       "subvillage                 371\n",
       "region                       0\n",
       "region_code                  0\n",
       "district_code                0\n",
       "lga                          0\n",
       "ward                         0\n",
       "population                   0\n",
       "public_meeting            3334\n",
       "recorded_by                  0\n",
       "scheme_management         3877\n",
       "scheme_name              28166\n",
       "permit                    3056\n",
       "construction_year        20709\n",
       "extraction_type              0\n",
       "extraction_type_group        0\n",
       "extraction_type_class        0\n",
       "management                   0\n",
       "management_group             0\n",
       "payment                      0\n",
       "payment_type                 0\n",
       "water_quality                0\n",
       "quality_group                0\n",
       "quantity                     0\n",
       "quantity_group               0\n",
       "source                       0\n",
       "source_type                  0\n",
       "source_class                 0\n",
       "waterpoint_type              0\n",
       "waterpoint_type_group        0\n",
       "status_group                 0\n",
       "dtype: int64"
      ]
     },
     "execution_count": 26,
     "metadata": {},
     "output_type": "execute_result"
    }
   ],
   "source": [
    "df.isna().sum()"
   ]
  },
  {
   "cell_type": "markdown",
   "metadata": {},
   "source": [
    "#### 'funder'"
   ]
  },
  {
   "cell_type": "code",
   "execution_count": 27,
   "metadata": {
    "ExecuteTime": {
     "end_time": "2022-12-28T00:09:20.928203Z",
     "start_time": "2022-12-28T00:09:20.915300Z"
    }
   },
   "outputs": [
    {
     "name": "stdout",
     "output_type": "stream",
     "text": [
      "Column Name: 'funder'\n",
      "\n",
      "This column consists of objects and has 3635 null values.\n",
      "\n",
      "The percentage of missing values in the funder column is 6.12%.\n",
      "\n",
      "The top values in funder are:\n",
      "\n",
      "Government Of Tanzania    9084\n",
      "Danida                    3114\n",
      "Hesawa                    2202\n",
      "Rwssp                     1374\n",
      "World Bank                1349\n",
      "Name: funder, dtype: int64\n",
      "\n",
      "There are 1898 unique values in this column.\n",
      "    \n"
     ]
    }
   ],
   "source": [
    "null_info('funder')"
   ]
  },
  {
   "cell_type": "markdown",
   "metadata": {},
   "source": [
    "#### 'installer'"
   ]
  },
  {
   "cell_type": "code",
   "execution_count": 28,
   "metadata": {
    "ExecuteTime": {
     "end_time": "2022-12-28T00:09:20.941742Z",
     "start_time": "2022-12-28T00:09:20.929019Z"
    }
   },
   "outputs": [
    {
     "name": "stdout",
     "output_type": "stream",
     "text": [
      "Column Name: 'installer'\n",
      "\n",
      "This column consists of objects and has 3655 null values.\n",
      "\n",
      "The percentage of missing values in the installer column is 6.15%.\n",
      "\n",
      "The top values in installer are:\n",
      "\n",
      "DWE           17402\n",
      "Government     1825\n",
      "RWE            1206\n",
      "Commu          1060\n",
      "DANIDA         1050\n",
      "Name: installer, dtype: int64\n",
      "\n",
      "There are 2146 unique values in this column.\n",
      "    \n"
     ]
    }
   ],
   "source": [
    "null_info('installer')"
   ]
  },
  {
   "cell_type": "markdown",
   "metadata": {},
   "source": [
    "#### 'subvillage'"
   ]
  },
  {
   "cell_type": "code",
   "execution_count": 29,
   "metadata": {
    "ExecuteTime": {
     "end_time": "2022-12-28T00:09:20.960579Z",
     "start_time": "2022-12-28T00:09:20.942715Z"
    }
   },
   "outputs": [
    {
     "name": "stdout",
     "output_type": "stream",
     "text": [
      "Column Name: 'subvillage'\n",
      "\n",
      "This column consists of objects and has 371 null values.\n",
      "\n",
      "The percentage of missing values in the subvillage column is 0.62%.\n",
      "\n",
      "The top values in subvillage are:\n",
      "\n",
      "Madukani    508\n",
      "Shuleni     506\n",
      "Majengo     502\n",
      "Kati        373\n",
      "Mtakuja     262\n",
      "Name: subvillage, dtype: int64\n",
      "\n",
      "There are 19288 unique values in this column.\n",
      "    \n"
     ]
    }
   ],
   "source": [
    "null_info('subvillage')"
   ]
  },
  {
   "cell_type": "markdown",
   "metadata": {},
   "source": [
    "#### 'public_meeting'"
   ]
  },
  {
   "cell_type": "code",
   "execution_count": 30,
   "metadata": {
    "ExecuteTime": {
     "end_time": "2022-12-28T00:09:20.973320Z",
     "start_time": "2022-12-28T00:09:20.961668Z"
    }
   },
   "outputs": [
    {
     "name": "stdout",
     "output_type": "stream",
     "text": [
      "Column Name: 'public_meeting'\n",
      "\n",
      "This column consists of objects and has 3334 null values.\n",
      "\n",
      "The percentage of missing values in the public_meeting column is 5.61%.\n",
      "\n",
      "The top values in public_meeting are:\n",
      "\n",
      "True     51011\n",
      "False     5055\n",
      "Name: public_meeting, dtype: int64\n",
      "\n",
      "There are 3 unique values in this column.\n",
      "    \n"
     ]
    }
   ],
   "source": [
    "null_info('public_meeting')"
   ]
  },
  {
   "cell_type": "markdown",
   "metadata": {},
   "source": [
    "#### 'scheme_management'"
   ]
  },
  {
   "cell_type": "code",
   "execution_count": 31,
   "metadata": {
    "ExecuteTime": {
     "end_time": "2022-12-28T00:09:20.985884Z",
     "start_time": "2022-12-28T00:09:20.974241Z"
    }
   },
   "outputs": [
    {
     "name": "stdout",
     "output_type": "stream",
     "text": [
      "Column Name: 'scheme_management'\n",
      "\n",
      "This column consists of objects and has 3877 null values.\n",
      "\n",
      "The percentage of missing values in the scheme_management column is 6.53%.\n",
      "\n",
      "The top values in scheme_management are:\n",
      "\n",
      "VWC                36793\n",
      "WUG                 5206\n",
      "Water authority     3153\n",
      "WUA                 2883\n",
      "Water Board         2748\n",
      "Name: scheme_management, dtype: int64\n",
      "\n",
      "There are 13 unique values in this column.\n",
      "    \n"
     ]
    }
   ],
   "source": [
    "null_info('scheme_management')"
   ]
  },
  {
   "cell_type": "markdown",
   "metadata": {},
   "source": [
    "#### 'scheme_name'"
   ]
  },
  {
   "cell_type": "code",
   "execution_count": 32,
   "metadata": {
    "ExecuteTime": {
     "end_time": "2022-12-28T00:09:21.000071Z",
     "start_time": "2022-12-28T00:09:20.986786Z"
    },
    "scrolled": true
   },
   "outputs": [
    {
     "name": "stdout",
     "output_type": "stream",
     "text": [
      "Column Name: 'scheme_name'\n",
      "\n",
      "This column consists of objects and has 28166 null values.\n",
      "\n",
      "The percentage of missing values in the scheme_name column is 47.42%.\n",
      "\n",
      "The top values in scheme_name are:\n",
      "\n",
      "K                682\n",
      "None             644\n",
      "Borehole         546\n",
      "Chalinze wate    405\n",
      "M                400\n",
      "Name: scheme_name, dtype: int64\n",
      "\n",
      "There are 2697 unique values in this column.\n",
      "    \n"
     ]
    }
   ],
   "source": [
    "null_info('scheme_name')"
   ]
  },
  {
   "cell_type": "markdown",
   "metadata": {},
   "source": [
    "I will drop this column because over 47% of the rows have missing data and the 'scheme_managment' column has the same description of, \"Who operates the waterpoint.\""
   ]
  },
  {
   "cell_type": "markdown",
   "metadata": {},
   "source": [
    "#### 'construction_year'"
   ]
  },
  {
   "cell_type": "code",
   "execution_count": 33,
   "metadata": {
    "ExecuteTime": {
     "end_time": "2022-12-28T00:09:21.021661Z",
     "start_time": "2022-12-28T00:09:21.003816Z"
    },
    "scrolled": true
   },
   "outputs": [
    {
     "name": "stdout",
     "output_type": "stream",
     "text": [
      "Column Name: 'construction_year'\n",
      "\n",
      "This column consists of objects and has 20709 null values.\n",
      "\n",
      "The percentage of missing values in the construction_year column is 34.86%.\n",
      "\n",
      "The top values in construction_year are:\n",
      "\n",
      "2010    2645\n",
      "2008    2613\n",
      "2009    2533\n",
      "2000    2091\n",
      "2007    1587\n",
      "Name: construction_year, dtype: int64\n",
      "\n",
      "There are 55 unique values in this column.\n",
      "    \n"
     ]
    }
   ],
   "source": [
    "null_info('construction_year', df)"
   ]
  },
  {
   "cell_type": "markdown",
   "metadata": {},
   "source": [
    "#### 'permit'"
   ]
  },
  {
   "cell_type": "code",
   "execution_count": 35,
   "metadata": {
    "ExecuteTime": {
     "end_time": "2022-12-28T00:09:21.039484Z",
     "start_time": "2022-12-28T00:09:21.027612Z"
    }
   },
   "outputs": [
    {
     "name": "stdout",
     "output_type": "stream",
     "text": [
      "Column Name: 'permit'\n",
      "\n",
      "This column consists of objects and has 3056 null values.\n",
      "\n",
      "The percentage of missing values in the permit column is 5.14%.\n",
      "\n",
      "The top values in permit are:\n",
      "\n",
      "True     38852\n",
      "False    17492\n",
      "Name: permit, dtype: int64\n",
      "\n",
      "There are 3 unique values in this column.\n",
      "    \n"
     ]
    }
   ],
   "source": [
    "null_info('permit', df)"
   ]
  },
  {
   "cell_type": "markdown",
   "metadata": {},
   "source": [
    "## Baseline Model\n",
    "1st Model - \"Dummy\" Model"
   ]
  },
  {
   "cell_type": "code",
   "execution_count": 36,
   "metadata": {
    "ExecuteTime": {
     "end_time": "2022-12-28T00:09:21.071720Z",
     "start_time": "2022-12-28T00:09:21.040289Z"
    }
   },
   "outputs": [],
   "source": [
    "X = df.drop(['scheme_name', 'status_group'], axis=1)\n",
    "y = df.status_group"
   ]
  },
  {
   "cell_type": "code",
   "execution_count": 46,
   "metadata": {
    "ExecuteTime": {
     "end_time": "2022-12-28T00:14:01.925630Z",
     "start_time": "2022-12-28T00:14:01.857397Z"
    }
   },
   "outputs": [],
   "source": [
    "X_train, X_test, y_train, y_test = train_test_split(X, y, random_state=42)"
   ]
  },
  {
   "cell_type": "code",
   "execution_count": 37,
   "metadata": {
    "ExecuteTime": {
     "end_time": "2022-12-28T00:09:21.084026Z",
     "start_time": "2022-12-28T00:09:21.072612Z"
    }
   },
   "outputs": [
    {
     "data": {
      "text/html": [
       "<div>\n",
       "<style scoped>\n",
       "    .dataframe tbody tr th:only-of-type {\n",
       "        vertical-align: middle;\n",
       "    }\n",
       "\n",
       "    .dataframe tbody tr th {\n",
       "        vertical-align: top;\n",
       "    }\n",
       "\n",
       "    .dataframe thead th {\n",
       "        text-align: right;\n",
       "    }\n",
       "</style>\n",
       "<table border=\"1\" class=\"dataframe\">\n",
       "  <thead>\n",
       "    <tr style=\"text-align: right;\">\n",
       "      <th></th>\n",
       "      <th>amount_tsh</th>\n",
       "      <th>date_recorded</th>\n",
       "      <th>funder</th>\n",
       "      <th>gps_height</th>\n",
       "      <th>installer</th>\n",
       "      <th>longitude</th>\n",
       "      <th>latitude</th>\n",
       "      <th>wpt_name</th>\n",
       "      <th>num_private</th>\n",
       "      <th>basin</th>\n",
       "      <th>...</th>\n",
       "      <th>payment_type</th>\n",
       "      <th>water_quality</th>\n",
       "      <th>quality_group</th>\n",
       "      <th>quantity</th>\n",
       "      <th>quantity_group</th>\n",
       "      <th>source</th>\n",
       "      <th>source_type</th>\n",
       "      <th>source_class</th>\n",
       "      <th>waterpoint_type</th>\n",
       "      <th>waterpoint_type_group</th>\n",
       "    </tr>\n",
       "    <tr>\n",
       "      <th>id</th>\n",
       "      <th></th>\n",
       "      <th></th>\n",
       "      <th></th>\n",
       "      <th></th>\n",
       "      <th></th>\n",
       "      <th></th>\n",
       "      <th></th>\n",
       "      <th></th>\n",
       "      <th></th>\n",
       "      <th></th>\n",
       "      <th></th>\n",
       "      <th></th>\n",
       "      <th></th>\n",
       "      <th></th>\n",
       "      <th></th>\n",
       "      <th></th>\n",
       "      <th></th>\n",
       "      <th></th>\n",
       "      <th></th>\n",
       "      <th></th>\n",
       "      <th></th>\n",
       "    </tr>\n",
       "  </thead>\n",
       "  <tbody>\n",
       "    <tr>\n",
       "      <th>69572</th>\n",
       "      <td>6000.0</td>\n",
       "      <td>2011-03-14</td>\n",
       "      <td>Roman</td>\n",
       "      <td>1390</td>\n",
       "      <td>Roman</td>\n",
       "      <td>34.938093</td>\n",
       "      <td>-9.856322</td>\n",
       "      <td>none</td>\n",
       "      <td>0</td>\n",
       "      <td>Lake Nyasa</td>\n",
       "      <td>...</td>\n",
       "      <td>annually</td>\n",
       "      <td>soft</td>\n",
       "      <td>good</td>\n",
       "      <td>enough</td>\n",
       "      <td>enough</td>\n",
       "      <td>spring</td>\n",
       "      <td>spring</td>\n",
       "      <td>groundwater</td>\n",
       "      <td>communal standpipe</td>\n",
       "      <td>communal standpipe</td>\n",
       "    </tr>\n",
       "    <tr>\n",
       "      <th>8776</th>\n",
       "      <td>0.0</td>\n",
       "      <td>2013-03-06</td>\n",
       "      <td>Grumeti</td>\n",
       "      <td>1399</td>\n",
       "      <td>GRUMETI</td>\n",
       "      <td>34.698766</td>\n",
       "      <td>-2.147466</td>\n",
       "      <td>Zahanati</td>\n",
       "      <td>0</td>\n",
       "      <td>Lake Victoria</td>\n",
       "      <td>...</td>\n",
       "      <td>never pay</td>\n",
       "      <td>soft</td>\n",
       "      <td>good</td>\n",
       "      <td>insufficient</td>\n",
       "      <td>insufficient</td>\n",
       "      <td>rainwater harvesting</td>\n",
       "      <td>rainwater harvesting</td>\n",
       "      <td>surface</td>\n",
       "      <td>communal standpipe</td>\n",
       "      <td>communal standpipe</td>\n",
       "    </tr>\n",
       "    <tr>\n",
       "      <th>34310</th>\n",
       "      <td>25.0</td>\n",
       "      <td>2013-02-25</td>\n",
       "      <td>Lottery Club</td>\n",
       "      <td>686</td>\n",
       "      <td>World vision</td>\n",
       "      <td>37.460664</td>\n",
       "      <td>-3.821329</td>\n",
       "      <td>Kwa Mahundi</td>\n",
       "      <td>0</td>\n",
       "      <td>Pangani</td>\n",
       "      <td>...</td>\n",
       "      <td>per bucket</td>\n",
       "      <td>soft</td>\n",
       "      <td>good</td>\n",
       "      <td>enough</td>\n",
       "      <td>enough</td>\n",
       "      <td>dam</td>\n",
       "      <td>dam</td>\n",
       "      <td>surface</td>\n",
       "      <td>communal standpipe multiple</td>\n",
       "      <td>communal standpipe</td>\n",
       "    </tr>\n",
       "    <tr>\n",
       "      <th>67743</th>\n",
       "      <td>0.0</td>\n",
       "      <td>2013-01-28</td>\n",
       "      <td>Unicef</td>\n",
       "      <td>263</td>\n",
       "      <td>UNICEF</td>\n",
       "      <td>38.486161</td>\n",
       "      <td>-11.155298</td>\n",
       "      <td>Zahanati Ya Nanyumbu</td>\n",
       "      <td>0</td>\n",
       "      <td>Ruvuma / Southern Coast</td>\n",
       "      <td>...</td>\n",
       "      <td>never pay</td>\n",
       "      <td>soft</td>\n",
       "      <td>good</td>\n",
       "      <td>dry</td>\n",
       "      <td>dry</td>\n",
       "      <td>machine dbh</td>\n",
       "      <td>borehole</td>\n",
       "      <td>groundwater</td>\n",
       "      <td>communal standpipe multiple</td>\n",
       "      <td>communal standpipe</td>\n",
       "    </tr>\n",
       "    <tr>\n",
       "      <th>19728</th>\n",
       "      <td>0.0</td>\n",
       "      <td>2011-07-13</td>\n",
       "      <td>Action In A</td>\n",
       "      <td>0</td>\n",
       "      <td>Artisan</td>\n",
       "      <td>31.130847</td>\n",
       "      <td>-1.825359</td>\n",
       "      <td>Shuleni</td>\n",
       "      <td>0</td>\n",
       "      <td>Lake Victoria</td>\n",
       "      <td>...</td>\n",
       "      <td>never pay</td>\n",
       "      <td>soft</td>\n",
       "      <td>good</td>\n",
       "      <td>seasonal</td>\n",
       "      <td>seasonal</td>\n",
       "      <td>rainwater harvesting</td>\n",
       "      <td>rainwater harvesting</td>\n",
       "      <td>surface</td>\n",
       "      <td>communal standpipe</td>\n",
       "      <td>communal standpipe</td>\n",
       "    </tr>\n",
       "  </tbody>\n",
       "</table>\n",
       "<p>5 rows × 38 columns</p>\n",
       "</div>"
      ],
      "text/plain": [
       "       amount_tsh date_recorded        funder  gps_height     installer  \\\n",
       "id                                                                        \n",
       "69572      6000.0    2011-03-14         Roman        1390         Roman   \n",
       "8776          0.0    2013-03-06       Grumeti        1399       GRUMETI   \n",
       "34310        25.0    2013-02-25  Lottery Club         686  World vision   \n",
       "67743         0.0    2013-01-28        Unicef         263        UNICEF   \n",
       "19728         0.0    2011-07-13   Action In A           0       Artisan   \n",
       "\n",
       "       longitude   latitude              wpt_name  num_private  \\\n",
       "id                                                               \n",
       "69572  34.938093  -9.856322                  none            0   \n",
       "8776   34.698766  -2.147466              Zahanati            0   \n",
       "34310  37.460664  -3.821329           Kwa Mahundi            0   \n",
       "67743  38.486161 -11.155298  Zahanati Ya Nanyumbu            0   \n",
       "19728  31.130847  -1.825359               Shuleni            0   \n",
       "\n",
       "                         basin  ... payment_type water_quality  quality_group  \\\n",
       "id                              ...                                             \n",
       "69572               Lake Nyasa  ...     annually          soft           good   \n",
       "8776             Lake Victoria  ...    never pay          soft           good   \n",
       "34310                  Pangani  ...   per bucket          soft           good   \n",
       "67743  Ruvuma / Southern Coast  ...    never pay          soft           good   \n",
       "19728            Lake Victoria  ...    never pay          soft           good   \n",
       "\n",
       "           quantity quantity_group                source  \\\n",
       "id                                                         \n",
       "69572        enough         enough                spring   \n",
       "8776   insufficient   insufficient  rainwater harvesting   \n",
       "34310        enough         enough                   dam   \n",
       "67743           dry            dry           machine dbh   \n",
       "19728      seasonal       seasonal  rainwater harvesting   \n",
       "\n",
       "                source_type source_class              waterpoint_type  \\\n",
       "id                                                                      \n",
       "69572                spring  groundwater           communal standpipe   \n",
       "8776   rainwater harvesting      surface           communal standpipe   \n",
       "34310                   dam      surface  communal standpipe multiple   \n",
       "67743              borehole  groundwater  communal standpipe multiple   \n",
       "19728  rainwater harvesting      surface           communal standpipe   \n",
       "\n",
       "      waterpoint_type_group  \n",
       "id                           \n",
       "69572    communal standpipe  \n",
       "8776     communal standpipe  \n",
       "34310    communal standpipe  \n",
       "67743    communal standpipe  \n",
       "19728    communal standpipe  \n",
       "\n",
       "[5 rows x 38 columns]"
      ]
     },
     "execution_count": 37,
     "metadata": {},
     "output_type": "execute_result"
    }
   ],
   "source": [
    "X.head()"
   ]
  },
  {
   "cell_type": "markdown",
   "metadata": {},
   "source": [
    "We will predict the most frequently occuring value in 'status_group' for each row. "
   ]
  },
  {
   "cell_type": "code",
   "execution_count": 38,
   "metadata": {
    "ExecuteTime": {
     "end_time": "2022-12-28T00:09:21.092480Z",
     "start_time": "2022-12-28T00:09:21.084944Z"
    }
   },
   "outputs": [
    {
     "data": {
      "text/plain": [
       "functional                 0.543081\n",
       "non functional             0.384242\n",
       "functional needs repair    0.072677\n",
       "Name: status_group, dtype: float64"
      ]
     },
     "execution_count": 38,
     "metadata": {},
     "output_type": "execute_result"
    }
   ],
   "source": [
    "y.value_counts(normalize=True)"
   ]
  },
  {
   "cell_type": "code",
   "execution_count": 39,
   "metadata": {
    "ExecuteTime": {
     "end_time": "2022-12-28T00:09:21.095754Z",
     "start_time": "2022-12-28T00:09:21.093314Z"
    }
   },
   "outputs": [],
   "source": [
    "dummy_model = DummyClassifier(strategy='most_frequent')"
   ]
  },
  {
   "cell_type": "code",
   "execution_count": 47,
   "metadata": {
    "ExecuteTime": {
     "end_time": "2022-12-28T00:15:34.792137Z",
     "start_time": "2022-12-28T00:15:34.748168Z"
    }
   },
   "outputs": [
    {
     "data": {
      "text/plain": [
       "DummyClassifier(strategy='most_frequent')"
      ]
     },
     "execution_count": 47,
     "metadata": {},
     "output_type": "execute_result"
    }
   ],
   "source": [
    "dummy_model.fit(X_train, y_train)"
   ]
  },
  {
   "cell_type": "code",
   "execution_count": 48,
   "metadata": {
    "ExecuteTime": {
     "end_time": "2022-12-28T00:16:11.714701Z",
     "start_time": "2022-12-28T00:16:11.706241Z"
    }
   },
   "outputs": [],
   "source": [
    "dummy_predictions = dummy_model.predict(X_train)"
   ]
  },
  {
   "cell_type": "code",
   "execution_count": 49,
   "metadata": {
    "ExecuteTime": {
     "end_time": "2022-12-28T00:17:25.269588Z",
     "start_time": "2022-12-28T00:17:25.055099Z"
    }
   },
   "outputs": [
    {
     "data": {
      "text/plain": [
       "array([0.54231201, 0.54242424, 0.54231201, 0.54231201, 0.54231201])"
      ]
     },
     "execution_count": 49,
     "metadata": {},
     "output_type": "execute_result"
    }
   ],
   "source": [
    "cv_results = cross_val_score(dummy_model, X_train, y_train, cv=5)\n",
    "cv_results"
   ]
  },
  {
   "cell_type": "code",
   "execution_count": 50,
   "metadata": {
    "ExecuteTime": {
     "end_time": "2022-12-28T00:17:48.150570Z",
     "start_time": "2022-12-28T00:17:48.143326Z"
    }
   },
   "outputs": [
    {
     "data": {
      "text/plain": [
       "0.5423344556677889"
      ]
     },
     "execution_count": 50,
     "metadata": {},
     "output_type": "execute_result"
    }
   ],
   "source": [
    "np.mean(cv_results)"
   ]
  },
  {
   "cell_type": "code",
   "execution_count": 51,
   "metadata": {
    "ExecuteTime": {
     "end_time": "2022-12-28T00:18:05.053464Z",
     "start_time": "2022-12-28T00:18:05.005233Z"
    }
   },
   "outputs": [
    {
     "data": {
      "text/plain": [
       "0.542334455667789"
      ]
     },
     "execution_count": 51,
     "metadata": {},
     "output_type": "execute_result"
    }
   ],
   "source": [
    "dummy_model.score(X_train, y_train)"
   ]
  },
  {
   "cell_type": "markdown",
   "metadata": {},
   "source": [
    "## First Simple Model"
   ]
  },
  {
   "cell_type": "code",
   "execution_count": 40,
   "metadata": {
    "ExecuteTime": {
     "end_time": "2022-12-28T00:09:21.111759Z",
     "start_time": "2022-12-28T00:09:21.097086Z"
    }
   },
   "outputs": [],
   "source": [
    "X = df.drop('scheme_name', axis=1)"
   ]
  },
  {
   "cell_type": "code",
   "execution_count": null,
   "metadata": {
    "ExecuteTime": {
     "end_time": "2022-12-25T02:52:07.402647Z",
     "start_time": "2022-12-25T02:52:07.319544Z"
    }
   },
   "outputs": [],
   "source": []
  },
  {
   "cell_type": "code",
   "execution_count": null,
   "metadata": {},
   "outputs": [],
   "source": []
  }
 ],
 "metadata": {
  "kernelspec": {
   "display_name": "Python 3",
   "language": "python",
   "name": "python3"
  },
  "language_info": {
   "codemirror_mode": {
    "name": "ipython",
    "version": 3
   },
   "file_extension": ".py",
   "mimetype": "text/x-python",
   "name": "python",
   "nbconvert_exporter": "python",
   "pygments_lexer": "ipython3",
   "version": "3.8.5"
  }
 },
 "nbformat": 4,
 "nbformat_minor": 4
}
